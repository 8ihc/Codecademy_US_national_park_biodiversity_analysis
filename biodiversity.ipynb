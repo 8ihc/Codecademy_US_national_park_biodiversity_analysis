{
 "cells": [
  {
   "cell_type": "markdown",
   "metadata": {},
   "source": [
    "# Introduction"
   ]
  },
  {
   "cell_type": "markdown",
   "metadata": {},
   "source": [
    "### About this project\n",
    "\n",
    "*This is a project provided by [Codecademy](https://www.codecademy.com/).* \n",
    "\n",
    "For this project, I will interpret data from the U.S.A. National Parks Service about endangered species in different parks. By implementing the skills of data cleaning, plotting, and analyzing, I will investigate if there are any patterns or themes to the types of species of concern.\n",
    "\n",
    "\n",
    "### Data source\n",
    "\n",
    "The original data source is from [USA National Parks Service](https://www.nps.gov/index.htm). However, the data was obtained  from the platform of Codecademy, which contains two CSV files called `observations.csv` and `species_info.csv`.\n",
    "\n",
    "- observations.csv file holds recorded `sightings` of different species at several national parks for the `past 7 days`. \n",
    "- species_info.csv file contains data about different species and their `conservation status`.\n",
    "\n",
    "Note: The data for this project is *inspired* by real data, but is mostly fictional.\n",
    "\n",
    "\n",
    "### Goals\n",
    "\n",
    "To investigate whether there are any patterns to the types of species of concern, I would like to answer the following 5 questions focusing on the relationship of different conservation status and sighted times among different species and classes.\n",
    "\n",
    "To make it clear, as there is only around 3% of species listed under conservation status in the dataset of *species_info.csv*, and it's unknown why the rest of the specices were not recorded. So, you would find that for some of the below questions, I've tried to answer the questions by focusing on two different groups. One is with the species listed under conservation status, and the other could be with ALL species in the dataset or just the species NOT recorded conservation status.\n",
    "\n",
    "\n",
    "1. What is the distribution of classes among *all species* in the dataset and *for the species listed under conservation status*? How are the distribution different between two groups?\n",
    "\n",
    "\n",
    "2. What is the distribution of conservation status among different classes of species?\n",
    "\n",
    "\n",
    "3. For the species *under conservation status* and for *all*, what are the distribution of the sighted times among different parks? Does the result reflects the conservation status?\n",
    "\n",
    "\n",
    "4. For the species under conservation status, which class was spotted the most at which park?\n",
    "\n",
    "\n",
    "5. Which species was spotted the most at which park?"
   ]
  },
  {
   "cell_type": "markdown",
   "metadata": {},
   "source": [
    "# Data at first glance"
   ]
  },
  {
   "cell_type": "markdown",
   "metadata": {},
   "source": [
    "### Variables of  species info dataset\n",
    "- **category** : Class of animales or plants, which includes 7 unique classes listed below. In this dataset, `Vascular Plant` accounts for the majority.\n",
    "    - Mammal\n",
    "    - Bird\n",
    "    - Reptile\n",
    "    - Amphibian\n",
    "    - Fish\n",
    "    - Vascular Plant\n",
    "    - Nonvascular Plant\n",
    "\n",
    "\n",
    "- **scientific_name** : The scientific name of each species. There is 5541 unique values from total 5824 entries. As usually [scientific names should be unique for each different species](https://animaldiversity.org/animal_names/scientific_name/), there might be duplicated species in the dataset.\n",
    "\n",
    "\n",
    "- **common_names** : The common names of each species. There is 5504 unique values from total 5824 entries. Different species could have shared same common names, so it's reasonable there are duplicated values.\n",
    "\n",
    "\n",
    "- **conservation_status** : Each species’ current conservation status. There are total 4 conservation status as listed below. In the total amount of 5824 entries in the dataset, there is only around `3.3%` of species recorded for their conservation status. However, it's unknown why the rest of species were not listed conservation statas, which could mean missing data or the species not considered to be of concern. \n",
    "    - Species of Concern\n",
    "    - In Recovery\n",
    "    - Threatened\n",
    "    - Endangered\n",
    "\n",
    "### Variables of observations dataset\n",
    "- **scientific_name** : The scientific name of each species. There is 5541 unique values from total 23296 entries. As this is a dateset collected sightings of different species at several national parks for the past 7 days, I assume if there are duplicated values, the reason might be the same species were recorded several times in different days and/or in different parks. As in the dataset, there was no column recording specific observed time and date, it would be difficult to check whether the duplicated values are truly duplicated.\n",
    "\n",
    "\n",
    "- **park_name** : Park where species were found. There are total 4 national parks appeard in the dataset as listed below with `Great Smoky Mountains National Park` accounting for the majority.\n",
    "    - Great Smoky Mountains National Park\n",
    "    - Yosemite National Park\n",
    "    - Bryce National Park\n",
    "    - Yellowstone National Park\n",
    "\n",
    "\n",
    "- **observations** : The number of times each species was observed at park. This is the only numerical variable in both two datasets, which would be one of the indicator to look for any patterns or themes to the types of species that might be endangered."
   ]
  },
  {
   "cell_type": "code",
   "execution_count": 5,
   "metadata": {},
   "outputs": [],
   "source": [
    "import pandas as pd\n",
    "import numpy as np\n",
    "import matplotlib.pyplot as plt\n",
    "import seaborn as sns\n",
    "\n",
    "# Load the datasets\n",
    "observe = pd.read_csv('observations.csv')\n",
    "species = pd.read_csv('species_info.csv')"
   ]
  },
  {
   "cell_type": "code",
   "execution_count": 6,
   "metadata": {},
   "outputs": [
    {
     "name": "stdout",
     "output_type": "stream",
     "text": [
      "Index(['category', 'scientific_name', 'common_names', 'conservation_status'], dtype='object')\n"
     ]
    },
    {
     "data": {
      "text/html": [
       "<div>\n",
       "<style scoped>\n",
       "    .dataframe tbody tr th:only-of-type {\n",
       "        vertical-align: middle;\n",
       "    }\n",
       "\n",
       "    .dataframe tbody tr th {\n",
       "        vertical-align: top;\n",
       "    }\n",
       "\n",
       "    .dataframe thead th {\n",
       "        text-align: right;\n",
       "    }\n",
       "</style>\n",
       "<table border=\"1\" class=\"dataframe\">\n",
       "  <thead>\n",
       "    <tr style=\"text-align: right;\">\n",
       "      <th></th>\n",
       "      <th>category</th>\n",
       "      <th>scientific_name</th>\n",
       "      <th>common_names</th>\n",
       "      <th>conservation_status</th>\n",
       "    </tr>\n",
       "  </thead>\n",
       "  <tbody>\n",
       "    <tr>\n",
       "      <th>0</th>\n",
       "      <td>Mammal</td>\n",
       "      <td>Clethrionomys gapperi gapperi</td>\n",
       "      <td>Gapper's Red-Backed Vole</td>\n",
       "      <td>NaN</td>\n",
       "    </tr>\n",
       "    <tr>\n",
       "      <th>1</th>\n",
       "      <td>Mammal</td>\n",
       "      <td>Bos bison</td>\n",
       "      <td>American Bison, Bison</td>\n",
       "      <td>NaN</td>\n",
       "    </tr>\n",
       "    <tr>\n",
       "      <th>2</th>\n",
       "      <td>Mammal</td>\n",
       "      <td>Bos taurus</td>\n",
       "      <td>Aurochs, Aurochs, Domestic Cattle (Feral), Dom...</td>\n",
       "      <td>NaN</td>\n",
       "    </tr>\n",
       "    <tr>\n",
       "      <th>3</th>\n",
       "      <td>Mammal</td>\n",
       "      <td>Ovis aries</td>\n",
       "      <td>Domestic Sheep, Mouflon, Red Sheep, Sheep (Feral)</td>\n",
       "      <td>NaN</td>\n",
       "    </tr>\n",
       "    <tr>\n",
       "      <th>4</th>\n",
       "      <td>Mammal</td>\n",
       "      <td>Cervus elaphus</td>\n",
       "      <td>Wapiti Or Elk</td>\n",
       "      <td>NaN</td>\n",
       "    </tr>\n",
       "  </tbody>\n",
       "</table>\n",
       "</div>"
      ],
      "text/plain": [
       "  category                scientific_name  \\\n",
       "0   Mammal  Clethrionomys gapperi gapperi   \n",
       "1   Mammal                      Bos bison   \n",
       "2   Mammal                     Bos taurus   \n",
       "3   Mammal                     Ovis aries   \n",
       "4   Mammal                 Cervus elaphus   \n",
       "\n",
       "                                        common_names conservation_status  \n",
       "0                           Gapper's Red-Backed Vole                 NaN  \n",
       "1                              American Bison, Bison                 NaN  \n",
       "2  Aurochs, Aurochs, Domestic Cattle (Feral), Dom...                 NaN  \n",
       "3  Domestic Sheep, Mouflon, Red Sheep, Sheep (Feral)                 NaN  \n",
       "4                                      Wapiti Or Elk                 NaN  "
      ]
     },
     "execution_count": 6,
     "metadata": {},
     "output_type": "execute_result"
    }
   ],
   "source": [
    "print(species.columns)\n",
    "species.head()"
   ]
  },
  {
   "cell_type": "code",
   "execution_count": 7,
   "metadata": {},
   "outputs": [
    {
     "name": "stdout",
     "output_type": "stream",
     "text": [
      "Species recorded conservation status in this dataset: 3.279532967032967 %\n",
      "<class 'pandas.core.frame.DataFrame'>\n",
      "RangeIndex: 5824 entries, 0 to 5823\n",
      "Data columns (total 4 columns):\n",
      " #   Column               Non-Null Count  Dtype \n",
      "---  ------               --------------  ----- \n",
      " 0   category             5824 non-null   object\n",
      " 1   scientific_name      5824 non-null   object\n",
      " 2   common_names         5824 non-null   object\n",
      " 3   conservation_status  191 non-null    object\n",
      "dtypes: object(4)\n",
      "memory usage: 182.1+ KB\n"
     ]
    }
   ],
   "source": [
    "print(f'Species recorded conservation status in this dataset: {191/5824 *100} %')\n",
    "species.info()"
   ]
  },
  {
   "cell_type": "code",
   "execution_count": 8,
   "metadata": {
    "scrolled": true
   },
   "outputs": [
    {
     "data": {
      "text/html": [
       "<div>\n",
       "<style scoped>\n",
       "    .dataframe tbody tr th:only-of-type {\n",
       "        vertical-align: middle;\n",
       "    }\n",
       "\n",
       "    .dataframe tbody tr th {\n",
       "        vertical-align: top;\n",
       "    }\n",
       "\n",
       "    .dataframe thead th {\n",
       "        text-align: right;\n",
       "    }\n",
       "</style>\n",
       "<table border=\"1\" class=\"dataframe\">\n",
       "  <thead>\n",
       "    <tr style=\"text-align: right;\">\n",
       "      <th></th>\n",
       "      <th>category</th>\n",
       "      <th>scientific_name</th>\n",
       "      <th>common_names</th>\n",
       "      <th>conservation_status</th>\n",
       "    </tr>\n",
       "  </thead>\n",
       "  <tbody>\n",
       "    <tr>\n",
       "      <th>count</th>\n",
       "      <td>5824</td>\n",
       "      <td>5824</td>\n",
       "      <td>5824</td>\n",
       "      <td>191</td>\n",
       "    </tr>\n",
       "    <tr>\n",
       "      <th>unique</th>\n",
       "      <td>7</td>\n",
       "      <td>5541</td>\n",
       "      <td>5504</td>\n",
       "      <td>4</td>\n",
       "    </tr>\n",
       "    <tr>\n",
       "      <th>top</th>\n",
       "      <td>Vascular Plant</td>\n",
       "      <td>Castor canadensis</td>\n",
       "      <td>Brachythecium Moss</td>\n",
       "      <td>Species of Concern</td>\n",
       "    </tr>\n",
       "    <tr>\n",
       "      <th>freq</th>\n",
       "      <td>4470</td>\n",
       "      <td>3</td>\n",
       "      <td>7</td>\n",
       "      <td>161</td>\n",
       "    </tr>\n",
       "  </tbody>\n",
       "</table>\n",
       "</div>"
      ],
      "text/plain": [
       "              category    scientific_name        common_names  \\\n",
       "count             5824               5824                5824   \n",
       "unique               7               5541                5504   \n",
       "top     Vascular Plant  Castor canadensis  Brachythecium Moss   \n",
       "freq              4470                  3                   7   \n",
       "\n",
       "       conservation_status  \n",
       "count                  191  \n",
       "unique                   4  \n",
       "top     Species of Concern  \n",
       "freq                   161  "
      ]
     },
     "execution_count": 8,
     "metadata": {},
     "output_type": "execute_result"
    }
   ],
   "source": [
    "species.describe(include = 'all')"
   ]
  },
  {
   "cell_type": "code",
   "execution_count": 9,
   "metadata": {
    "scrolled": true
   },
   "outputs": [
    {
     "name": "stdout",
     "output_type": "stream",
     "text": [
      "Class of species: ['Mammal' 'Bird' 'Reptile' 'Amphibian' 'Fish' 'Vascular Plant'\n",
      " 'Nonvascular Plant']\n",
      "\n",
      "Conservation status: [nan 'Species of Concern' 'Endangered' 'Threatened' 'In Recovery']\n"
     ]
    }
   ],
   "source": [
    "print(f'Class of species: {species.category.unique()}\\n')\n",
    "print(f'Conservation status: {species.conservation_status.unique()}')"
   ]
  },
  {
   "cell_type": "code",
   "execution_count": 10,
   "metadata": {},
   "outputs": [
    {
     "name": "stdout",
     "output_type": "stream",
     "text": [
      "Index(['scientific_name', 'park_name', 'observations'], dtype='object')\n"
     ]
    },
    {
     "data": {
      "text/html": [
       "<div>\n",
       "<style scoped>\n",
       "    .dataframe tbody tr th:only-of-type {\n",
       "        vertical-align: middle;\n",
       "    }\n",
       "\n",
       "    .dataframe tbody tr th {\n",
       "        vertical-align: top;\n",
       "    }\n",
       "\n",
       "    .dataframe thead th {\n",
       "        text-align: right;\n",
       "    }\n",
       "</style>\n",
       "<table border=\"1\" class=\"dataframe\">\n",
       "  <thead>\n",
       "    <tr style=\"text-align: right;\">\n",
       "      <th></th>\n",
       "      <th>scientific_name</th>\n",
       "      <th>park_name</th>\n",
       "      <th>observations</th>\n",
       "    </tr>\n",
       "  </thead>\n",
       "  <tbody>\n",
       "    <tr>\n",
       "      <th>0</th>\n",
       "      <td>Vicia benghalensis</td>\n",
       "      <td>Great Smoky Mountains National Park</td>\n",
       "      <td>68</td>\n",
       "    </tr>\n",
       "    <tr>\n",
       "      <th>1</th>\n",
       "      <td>Neovison vison</td>\n",
       "      <td>Great Smoky Mountains National Park</td>\n",
       "      <td>77</td>\n",
       "    </tr>\n",
       "    <tr>\n",
       "      <th>2</th>\n",
       "      <td>Prunus subcordata</td>\n",
       "      <td>Yosemite National Park</td>\n",
       "      <td>138</td>\n",
       "    </tr>\n",
       "    <tr>\n",
       "      <th>3</th>\n",
       "      <td>Abutilon theophrasti</td>\n",
       "      <td>Bryce National Park</td>\n",
       "      <td>84</td>\n",
       "    </tr>\n",
       "    <tr>\n",
       "      <th>4</th>\n",
       "      <td>Githopsis specularioides</td>\n",
       "      <td>Great Smoky Mountains National Park</td>\n",
       "      <td>85</td>\n",
       "    </tr>\n",
       "  </tbody>\n",
       "</table>\n",
       "</div>"
      ],
      "text/plain": [
       "            scientific_name                            park_name  observations\n",
       "0        Vicia benghalensis  Great Smoky Mountains National Park            68\n",
       "1            Neovison vison  Great Smoky Mountains National Park            77\n",
       "2         Prunus subcordata               Yosemite National Park           138\n",
       "3      Abutilon theophrasti                  Bryce National Park            84\n",
       "4  Githopsis specularioides  Great Smoky Mountains National Park            85"
      ]
     },
     "execution_count": 10,
     "metadata": {},
     "output_type": "execute_result"
    }
   ],
   "source": [
    "print(observe.columns)\n",
    "observe.head()"
   ]
  },
  {
   "cell_type": "code",
   "execution_count": 11,
   "metadata": {
    "scrolled": false
   },
   "outputs": [
    {
     "name": "stdout",
     "output_type": "stream",
     "text": [
      "<class 'pandas.core.frame.DataFrame'>\n",
      "RangeIndex: 23296 entries, 0 to 23295\n",
      "Data columns (total 3 columns):\n",
      " #   Column           Non-Null Count  Dtype \n",
      "---  ------           --------------  ----- \n",
      " 0   scientific_name  23296 non-null  object\n",
      " 1   park_name        23296 non-null  object\n",
      " 2   observations     23296 non-null  int64 \n",
      "dtypes: int64(1), object(2)\n",
      "memory usage: 546.1+ KB\n"
     ]
    }
   ],
   "source": [
    "observe.info()"
   ]
  },
  {
   "cell_type": "code",
   "execution_count": 12,
   "metadata": {},
   "outputs": [
    {
     "data": {
      "text/html": [
       "<div>\n",
       "<style scoped>\n",
       "    .dataframe tbody tr th:only-of-type {\n",
       "        vertical-align: middle;\n",
       "    }\n",
       "\n",
       "    .dataframe tbody tr th {\n",
       "        vertical-align: top;\n",
       "    }\n",
       "\n",
       "    .dataframe thead th {\n",
       "        text-align: right;\n",
       "    }\n",
       "</style>\n",
       "<table border=\"1\" class=\"dataframe\">\n",
       "  <thead>\n",
       "    <tr style=\"text-align: right;\">\n",
       "      <th></th>\n",
       "      <th>scientific_name</th>\n",
       "      <th>park_name</th>\n",
       "      <th>observations</th>\n",
       "    </tr>\n",
       "  </thead>\n",
       "  <tbody>\n",
       "    <tr>\n",
       "      <th>count</th>\n",
       "      <td>23296</td>\n",
       "      <td>23296</td>\n",
       "      <td>23296.000000</td>\n",
       "    </tr>\n",
       "    <tr>\n",
       "      <th>unique</th>\n",
       "      <td>5541</td>\n",
       "      <td>4</td>\n",
       "      <td>NaN</td>\n",
       "    </tr>\n",
       "    <tr>\n",
       "      <th>top</th>\n",
       "      <td>Myotis lucifugus</td>\n",
       "      <td>Great Smoky Mountains National Park</td>\n",
       "      <td>NaN</td>\n",
       "    </tr>\n",
       "    <tr>\n",
       "      <th>freq</th>\n",
       "      <td>12</td>\n",
       "      <td>5824</td>\n",
       "      <td>NaN</td>\n",
       "    </tr>\n",
       "    <tr>\n",
       "      <th>mean</th>\n",
       "      <td>NaN</td>\n",
       "      <td>NaN</td>\n",
       "      <td>142.287904</td>\n",
       "    </tr>\n",
       "    <tr>\n",
       "      <th>std</th>\n",
       "      <td>NaN</td>\n",
       "      <td>NaN</td>\n",
       "      <td>69.890532</td>\n",
       "    </tr>\n",
       "    <tr>\n",
       "      <th>min</th>\n",
       "      <td>NaN</td>\n",
       "      <td>NaN</td>\n",
       "      <td>9.000000</td>\n",
       "    </tr>\n",
       "    <tr>\n",
       "      <th>25%</th>\n",
       "      <td>NaN</td>\n",
       "      <td>NaN</td>\n",
       "      <td>86.000000</td>\n",
       "    </tr>\n",
       "    <tr>\n",
       "      <th>50%</th>\n",
       "      <td>NaN</td>\n",
       "      <td>NaN</td>\n",
       "      <td>124.000000</td>\n",
       "    </tr>\n",
       "    <tr>\n",
       "      <th>75%</th>\n",
       "      <td>NaN</td>\n",
       "      <td>NaN</td>\n",
       "      <td>195.000000</td>\n",
       "    </tr>\n",
       "    <tr>\n",
       "      <th>max</th>\n",
       "      <td>NaN</td>\n",
       "      <td>NaN</td>\n",
       "      <td>321.000000</td>\n",
       "    </tr>\n",
       "  </tbody>\n",
       "</table>\n",
       "</div>"
      ],
      "text/plain": [
       "         scientific_name                            park_name  observations\n",
       "count              23296                                23296  23296.000000\n",
       "unique              5541                                    4           NaN\n",
       "top     Myotis lucifugus  Great Smoky Mountains National Park           NaN\n",
       "freq                  12                                 5824           NaN\n",
       "mean                 NaN                                  NaN    142.287904\n",
       "std                  NaN                                  NaN     69.890532\n",
       "min                  NaN                                  NaN      9.000000\n",
       "25%                  NaN                                  NaN     86.000000\n",
       "50%                  NaN                                  NaN    124.000000\n",
       "75%                  NaN                                  NaN    195.000000\n",
       "max                  NaN                                  NaN    321.000000"
      ]
     },
     "execution_count": 12,
     "metadata": {},
     "output_type": "execute_result"
    }
   ],
   "source": [
    "observe.describe(include = 'all')"
   ]
  },
  {
   "cell_type": "code",
   "execution_count": 13,
   "metadata": {},
   "outputs": [
    {
     "name": "stdout",
     "output_type": "stream",
     "text": [
      "National Parks: ['Great Smoky Mountains National Park' 'Yosemite National Park'\n",
      " 'Bryce National Park' 'Yellowstone National Park']\n"
     ]
    }
   ],
   "source": [
    "print(f'National Parks: {observe.park_name.unique()}')"
   ]
  },
  {
   "cell_type": "markdown",
   "metadata": {},
   "source": [
    "# Plot and Analysis"
   ]
  },
  {
   "cell_type": "markdown",
   "metadata": {},
   "source": [
    "### 1. What is the distribution of classes among all species in the dataset and for the species listed under conservation status? How are the distribution different between two groups? "
   ]
  },
  {
   "cell_type": "markdown",
   "metadata": {},
   "source": [
    "As there is only around `3%` of species recorded for their conservation status in the datset, and the reason why the rest of the species were not recorded is unknown. So, I deiceded to plot the distribution of classes both for total species and for species under conservation status seperately. \n",
    "\n",
    "In the class distribution for *all species*, `Vascular plant` accounts for the majority class with `76.9%`. And, they are almost `9` times to the second most class, `Bird`. While, `Amphibian` and `Reptile` both got a percentage of `1.4%`, which accounts for the least among different classes.\n",
    "\n",
    "In the other hand, in the class distribution for *species under conservation status*, `Bird` is the majority class with `41.7%`, which is around `1.6` times higher than the second most class, `Vascular plant`. And, the ranking follows by `Mammal` and `Fish`.  While, `Nonvascular plant` and `Reptile` shared the same percentage of `2.8%`, which accounts for the least among different classes. \n",
    "\n",
    "If looking at the graph below with the title of *Class Distribution of Species (All v.s. Under Conservation)*, you can see that even though the species in class `Bird` is much lesser than the class `Vascular plant`, however `Bird` accounts for the majority of the species under conservation status, which indicates that birds' lives are under greater threat among all the species."
   ]
  },
  {
   "cell_type": "code",
   "execution_count": 14,
   "metadata": {},
   "outputs": [
    {
     "data": {
      "text/html": [
       "<div>\n",
       "<style scoped>\n",
       "    .dataframe tbody tr th:only-of-type {\n",
       "        vertical-align: middle;\n",
       "    }\n",
       "\n",
       "    .dataframe tbody tr th {\n",
       "        vertical-align: top;\n",
       "    }\n",
       "\n",
       "    .dataframe thead th {\n",
       "        text-align: right;\n",
       "    }\n",
       "</style>\n",
       "<table border=\"1\" class=\"dataframe\">\n",
       "  <thead>\n",
       "    <tr style=\"text-align: right;\">\n",
       "      <th></th>\n",
       "      <th>category</th>\n",
       "      <th>count_all</th>\n",
       "      <th>pct_all</th>\n",
       "      <th>count_consv</th>\n",
       "      <th>pct_consv</th>\n",
       "    </tr>\n",
       "  </thead>\n",
       "  <tbody>\n",
       "    <tr>\n",
       "      <th>0</th>\n",
       "      <td>Vascular Plant</td>\n",
       "      <td>4262</td>\n",
       "      <td>76.9</td>\n",
       "      <td>46</td>\n",
       "      <td>25.6</td>\n",
       "    </tr>\n",
       "    <tr>\n",
       "      <th>1</th>\n",
       "      <td>Bird</td>\n",
       "      <td>488</td>\n",
       "      <td>8.8</td>\n",
       "      <td>75</td>\n",
       "      <td>41.7</td>\n",
       "    </tr>\n",
       "    <tr>\n",
       "      <th>2</th>\n",
       "      <td>Nonvascular Plant</td>\n",
       "      <td>333</td>\n",
       "      <td>6.0</td>\n",
       "      <td>5</td>\n",
       "      <td>2.8</td>\n",
       "    </tr>\n",
       "    <tr>\n",
       "      <th>3</th>\n",
       "      <td>Mammal</td>\n",
       "      <td>177</td>\n",
       "      <td>3.2</td>\n",
       "      <td>31</td>\n",
       "      <td>17.2</td>\n",
       "    </tr>\n",
       "    <tr>\n",
       "      <th>4</th>\n",
       "      <td>Fish</td>\n",
       "      <td>126</td>\n",
       "      <td>2.3</td>\n",
       "      <td>11</td>\n",
       "      <td>6.1</td>\n",
       "    </tr>\n",
       "    <tr>\n",
       "      <th>5</th>\n",
       "      <td>Amphibian</td>\n",
       "      <td>79</td>\n",
       "      <td>1.4</td>\n",
       "      <td>7</td>\n",
       "      <td>3.9</td>\n",
       "    </tr>\n",
       "    <tr>\n",
       "      <th>6</th>\n",
       "      <td>Reptile</td>\n",
       "      <td>78</td>\n",
       "      <td>1.4</td>\n",
       "      <td>5</td>\n",
       "      <td>2.8</td>\n",
       "    </tr>\n",
       "  </tbody>\n",
       "</table>\n",
       "</div>"
      ],
      "text/plain": [
       "            category  count_all  pct_all  count_consv  pct_consv\n",
       "0     Vascular Plant       4262     76.9           46       25.6\n",
       "1               Bird        488      8.8           75       41.7\n",
       "2  Nonvascular Plant        333      6.0            5        2.8\n",
       "3             Mammal        177      3.2           31       17.2\n",
       "4               Fish        126      2.3           11        6.1\n",
       "5          Amphibian         79      1.4            7        3.9\n",
       "6            Reptile         78      1.4            5        2.8"
      ]
     },
     "execution_count": 14,
     "metadata": {},
     "output_type": "execute_result"
    }
   ],
   "source": [
    "# Create a subset without the column 'common_names'\n",
    "species_sub = species.drop(columns = 'common_names')\n",
    "\n",
    "# Check duplicated species according to 'scientifit_name' and handle with the duplicated data\n",
    "species_sub.duplicated().sum() #281\n",
    "species_sub.drop_duplicates(inplace = True)\n",
    "\n",
    "# Classes of the ALL species\n",
    "class_all = (species_sub.category.value_counts()\n",
    "                        .reset_index()\n",
    "                        .rename(columns = {'index':'category', 'category':'count'}))\n",
    "\n",
    "# Add column 'pct' showing percentage for each category(class)\n",
    "class_all['pct'] = round(class_all['count'] / class_all['count'].sum() * 100, 1)\n",
    "\n",
    "# Classes of the species under convervation status\n",
    "class_consv = (species_sub[species_sub.conservation_status.notnull()]\n",
    "               .category\n",
    "               .value_counts()\n",
    "               .reset_index()\n",
    "               .rename(columns = {'index':'category', 'category':'count'}))\n",
    "\n",
    "# Add column 'pct' showing percentage for each category(class)\n",
    "class_consv['pct'] = round(class_consv['count'] / class_consv['count'].sum() * 100, 1)\n",
    "class_consv\n",
    "\n",
    "# Merge two dataframes above\n",
    "class_merge = class_all.merge(class_consv, \n",
    "                              on = 'category',\n",
    "                              suffixes = ('_all', '_consv'))\n",
    "class_merge"
   ]
  },
  {
   "cell_type": "code",
   "execution_count": 15,
   "metadata": {},
   "outputs": [
    {
     "data": {
      "image/png": "[encoded data removed]",
      "text/plain": [
       "<Figure size 1080x360 with 2 Axes>"
      ]
     },
     "metadata": {
      "needs_background": "light"
     },
     "output_type": "display_data"
    },
    {
     "data": {
      "text/plain": [
       "<Figure size 432x288 with 0 Axes>"
      ]
     },
     "metadata": {},
     "output_type": "display_data"
    }
   ],
   "source": [
    "# Plot the class distribution among all species in the dataset and for species under conservation\n",
    "plt.figure(figsize=(15,5))\n",
    "plt.subplots_adjust(wspace = 0.4)\n",
    "\n",
    "ax1 = plt.subplot(1, 2, 1)\n",
    "sns.barplot(data = class_all, \n",
    "            y = 'category', x = 'count', \n",
    "            palette = 'Set2')\n",
    "plt.title('Class Distribution of All Species')\n",
    "plt.xlabel('Count')\n",
    "plt.ylabel('Class')\n",
    "\n",
    "ax2 = plt.subplot(1, 2, 2)\n",
    "sns.barplot(data = class_consv, \n",
    "            y = 'category', x = 'count',\n",
    "            palette = 'Set2')\n",
    "plt.title('Class Distribution of Species Under Conservation')\n",
    "plt.xlabel('Count')\n",
    "plt.ylabel('Class')\n",
    "\n",
    "plt.show()\n",
    "plt.clf()"
   ]
  },
  {
   "cell_type": "code",
   "execution_count": 16,
   "metadata": {},
   "outputs": [
    {
     "data": {
      "image/png": "[encoded data removed]",
      "text/plain": [
       "<Figure size 504x360 with 1 Axes>"
      ]
     },
     "metadata": {
      "needs_background": "light"
     },
     "output_type": "display_data"
    },
    {
     "data": {
      "text/plain": [
       "<Figure size 432x288 with 0 Axes>"
      ]
     },
     "metadata": {},
     "output_type": "display_data"
    }
   ],
   "source": [
    "class_melt = class_merge.melt(id_vars = 'category', \n",
    "                              value_vars = ['count_all', 'count_consv'] ,\n",
    "                              var_name = 'type', value_name = 'count')\n",
    "\n",
    "# Plot the distribution of classes: All vs Species under conservation\n",
    "plt.figure(figsize=(7,5))\n",
    "sns.barplot(data = class_melt,\n",
    "            y = 'category', x = 'count',\n",
    "            hue = 'type')\n",
    "plt.xlabel('Count')\n",
    "plt.ylabel('Class')\n",
    "plt.title('Class Distribution of Species (All v.s. Under Conservation)')\n",
    "\n",
    "plt.show()\n",
    "plt.clf()"
   ]
  },
  {
   "cell_type": "markdown",
   "metadata": {},
   "source": [
    "### 2. What is the distribution of conservation status among different classes of species?\n",
    "\n",
    "From the graph *Overall Conservation Status Distribution*, we can find that there are totally around `150` species under the status of **Species of Concern**, which is around `7` times higher than other conservation status. And, there is very few species **in recovery**. Similar pattern applies to class `Mammal`, `Bird`, and `Vascular Plant` if looking at the graph *Conservation Status Distribution in Different Classes*. The pattern mentiioned here means that `Species of Concern` usually accounts for the main conservation status, which then follows by `Endangerd`, `Threatened`, and lastly `In Reconvery`.\n",
    "\n",
    "At the below graph *Distribution of Classes for Each Conservation Status*, `Mammal` and `Bird` are the most concerning classes under `Species of Concern` and `Endangerd` status. And, the two are the only classes that can be found few species `in recovery`. Another class that requires attention is `Vascular Plant`, which is the second most `of concern` species. As for class `Fish` and `Amphibian`, there are a few species under the status of 'Endangerd' and 'Threatened'."
   ]
  },
  {
   "cell_type": "code",
   "execution_count": 17,
   "metadata": {
    "scrolled": false
   },
   "outputs": [
    {
     "data": {
      "text/plain": [
       "<matplotlib.legend.Legend at 0x1e553310a30>"
      ]
     },
     "execution_count": 17,
     "metadata": {},
     "output_type": "execute_result"
    },
    {
     "data": {
      "image/png": "[encoded data removed]",
      "text/plain": [
       "<Figure size 1080x1080 with 2 Axes>"
      ]
     },
     "metadata": {
      "needs_background": "light"
     },
     "output_type": "display_data"
    }
   ],
   "source": [
    "consv_status = (species_sub[species_sub.conservation_status.notnull()]\n",
    "                .drop(columns = 'scientific_name'))\n",
    "#consv_status.head()\n",
    "\n",
    "# Plot the conservation status distribution for all and for different classes\n",
    "plt.figure(figsize=(15,15))\n",
    "plt.subplots_adjust(wspace = 0.4)\n",
    "\n",
    "ax1 = plt.subplot(2, 2, 1)\n",
    "sns.countplot(data = consv_status, \n",
    "              y = 'conservation_status',\n",
    "              palette = 'Set2')\n",
    "plt.title('Overall Conservation Status Distribution')\n",
    "plt.xlabel('Count')\n",
    "plt.ylabel('Conservation Status')\n",
    "\n",
    "ax2 = plt.subplot(2, 2, 2)\n",
    "sns.countplot(data = consv_status, \n",
    "              y = 'category', hue = 'conservation_status',\n",
    "              palette = 'Set2')\n",
    "plt.title('Conservation Status Distribution in Different Classes')\n",
    "plt.xlabel('Count')\n",
    "plt.ylabel('Class')\n",
    "plt.legend(title = 'Conservation Status', loc = 'lower right')"
   ]
  },
  {
   "cell_type": "code",
   "execution_count": 14,
   "metadata": {},
   "outputs": [
    {
     "data": {
      "image/png": "[encoded data removed]",
      "text/plain": [
       "<Figure size 864x720 with 4 Axes>"
      ]
     },
     "metadata": {
      "needs_background": "light"
     },
     "output_type": "display_data"
    },
    {
     "data": {
      "text/plain": [
       "<Figure size 432x288 with 0 Axes>"
      ]
     },
     "metadata": {},
     "output_type": "display_data"
    }
   ],
   "source": [
    "# Plot the distribution of classes for each conservation status\n",
    "g_consv = sns.catplot(data = consv_status, kind = 'count',\n",
    "                      y = 'category', \n",
    "                      col = 'conservation_status', col_wrap = 2, sharex = False,\n",
    "                      palette = 'Set2', height = 5, aspect = 1.2)\n",
    "\n",
    "g_consv.set_axis_labels('Count', 'Class')\n",
    "g_consv.fig.subplots_adjust(top = 0.9, hspace = 0.3, wspace = 0.1)\n",
    "g_consv.fig.suptitle('Distribution of Classes for Each Conservation Status')\n",
    "\n",
    "plt.show()\n",
    "plt.clf()"
   ]
  },
  {
   "cell_type": "markdown",
   "metadata": {},
   "source": [
    "### 3. For the species under conservation status and for all, what are the distribution of the sighted times among different parks? Does the result reflects the conservation status? \n",
    "\n",
    "As there is only around 3% of species listed under conservation status in the dataset, I am interested in what the difference might be among species *not recorded conservation status* and species *under conservation status* for the sighted times in different parks. From the first two graphs below, we can find the same pattern that `Yellow Stone National park` accounts for the majority of the observations, which then follows by the other three parks with `Great Smoky Mountains National Park` being the least. However, as these two graphs don't share the same scale on X axis, `sighted times for species NOT recorded conservation status are much higher`.\n",
    "\n",
    "The figure below with the title of *Sighted Times of Species under Different Conservation Status and Parks* shows a pattern shared among different national parks, where species with the status of `Species of Concern` accounts for the majority, while the species under the other status have limited opportunities to be sighted. \n",
    "\n",
    "The result of the distribution did reflect what I've expected that species that are `Endangerd`, `Threatened`, and `In Recovery` are less likely to be sighted. However, it's still **not sure** that the higher sighted times for the species under `Species of Concern` status was truly due to the higher probability to be seen or simply because they account for the majority in this dataset.   "
   ]
  },
  {
   "cell_type": "code",
   "execution_count": 18,
   "metadata": {},
   "outputs": [
    {
     "data": {
      "text/html": [
       "<div>\n",
       "<style scoped>\n",
       "    .dataframe tbody tr th:only-of-type {\n",
       "        vertical-align: middle;\n",
       "    }\n",
       "\n",
       "    .dataframe tbody tr th {\n",
       "        vertical-align: top;\n",
       "    }\n",
       "\n",
       "    .dataframe thead th {\n",
       "        text-align: right;\n",
       "    }\n",
       "</style>\n",
       "<table border=\"1\" class=\"dataframe\">\n",
       "  <thead>\n",
       "    <tr style=\"text-align: right;\">\n",
       "      <th></th>\n",
       "      <th>category</th>\n",
       "      <th>scientific_name</th>\n",
       "      <th>conservation_status</th>\n",
       "      <th>park_name</th>\n",
       "      <th>observations</th>\n",
       "    </tr>\n",
       "  </thead>\n",
       "  <tbody>\n",
       "    <tr>\n",
       "      <th>40</th>\n",
       "      <td>Mammal</td>\n",
       "      <td>Canis latrans</td>\n",
       "      <td>Species of Concern</td>\n",
       "      <td>Bryce National Park</td>\n",
       "      <td>85</td>\n",
       "    </tr>\n",
       "    <tr>\n",
       "      <th>41</th>\n",
       "      <td>Mammal</td>\n",
       "      <td>Canis latrans</td>\n",
       "      <td>Species of Concern</td>\n",
       "      <td>Yellowstone National Park</td>\n",
       "      <td>206</td>\n",
       "    </tr>\n",
       "    <tr>\n",
       "      <th>42</th>\n",
       "      <td>Mammal</td>\n",
       "      <td>Canis latrans</td>\n",
       "      <td>Species of Concern</td>\n",
       "      <td>Great Smoky Mountains National Park</td>\n",
       "      <td>68</td>\n",
       "    </tr>\n",
       "    <tr>\n",
       "      <th>43</th>\n",
       "      <td>Mammal</td>\n",
       "      <td>Canis latrans</td>\n",
       "      <td>Species of Concern</td>\n",
       "      <td>Yosemite National Park</td>\n",
       "      <td>99</td>\n",
       "    </tr>\n",
       "    <tr>\n",
       "      <th>44</th>\n",
       "      <td>Mammal</td>\n",
       "      <td>Canis lupus</td>\n",
       "      <td>Endangered</td>\n",
       "      <td>Yosemite National Park</td>\n",
       "      <td>35</td>\n",
       "    </tr>\n",
       "  </tbody>\n",
       "</table>\n",
       "</div>"
      ],
      "text/plain": [
       "   category scientific_name conservation_status  \\\n",
       "40   Mammal   Canis latrans  Species of Concern   \n",
       "41   Mammal   Canis latrans  Species of Concern   \n",
       "42   Mammal   Canis latrans  Species of Concern   \n",
       "43   Mammal   Canis latrans  Species of Concern   \n",
       "44   Mammal     Canis lupus          Endangered   \n",
       "\n",
       "                              park_name  observations  \n",
       "40                  Bryce National Park            85  \n",
       "41            Yellowstone National Park           206  \n",
       "42  Great Smoky Mountains National Park            68  \n",
       "43               Yosemite National Park            99  \n",
       "44               Yosemite National Park            35  "
      ]
     },
     "execution_count": 18,
     "metadata": {},
     "output_type": "execute_result"
    }
   ],
   "source": [
    "# Merge two dataframes: 'observe' and 'species_sub'\n",
    "merge_all = species_sub.merge(observe, on = 'scientific_name', how = 'outer')\n",
    "#merge_all.scientific_name.nunique() #5541\n",
    "#merge_all.head()\n",
    "\n",
    "# Dataset that only includes species NOT recorded conservation status \n",
    "na_consv = merge_all[merge_all.conservation_status.isnull()]\n",
    "na_consv.head()\n",
    "\n",
    "# Dataset that only includes species recorded conservation status \n",
    "consv = merge_all[merge_all.conservation_status.notnull()]\n",
    "consv.head()"
   ]
  },
  {
   "cell_type": "code",
   "execution_count": 19,
   "metadata": {},
   "outputs": [
    {
     "data": {
      "text/html": [
       "<div>\n",
       "<style scoped>\n",
       "    .dataframe tbody tr th:only-of-type {\n",
       "        vertical-align: middle;\n",
       "    }\n",
       "\n",
       "    .dataframe tbody tr th {\n",
       "        vertical-align: top;\n",
       "    }\n",
       "\n",
       "    .dataframe thead th {\n",
       "        text-align: right;\n",
       "    }\n",
       "</style>\n",
       "<table border=\"1\" class=\"dataframe\">\n",
       "  <thead>\n",
       "    <tr style=\"text-align: right;\">\n",
       "      <th></th>\n",
       "      <th>park_name</th>\n",
       "      <th>observations</th>\n",
       "    </tr>\n",
       "  </thead>\n",
       "  <tbody>\n",
       "    <tr>\n",
       "      <th>0</th>\n",
       "      <td>Bryce National Park</td>\n",
       "      <td>16393</td>\n",
       "    </tr>\n",
       "    <tr>\n",
       "      <th>1</th>\n",
       "      <td>Great Smoky Mountains National Park</td>\n",
       "      <td>11336</td>\n",
       "    </tr>\n",
       "    <tr>\n",
       "      <th>2</th>\n",
       "      <td>Yellowstone National Park</td>\n",
       "      <td>39365</td>\n",
       "    </tr>\n",
       "    <tr>\n",
       "      <th>3</th>\n",
       "      <td>Yosemite National Park</td>\n",
       "      <td>23729</td>\n",
       "    </tr>\n",
       "  </tbody>\n",
       "</table>\n",
       "</div>"
      ],
      "text/plain": [
       "                             park_name  observations\n",
       "0                  Bryce National Park         16393\n",
       "1  Great Smoky Mountains National Park         11336\n",
       "2            Yellowstone National Park         39365\n",
       "3               Yosemite National Park         23729"
      ]
     },
     "execution_count": 19,
     "metadata": {},
     "output_type": "execute_result"
    }
   ],
   "source": [
    "# Calculate the sum of the sighted times for species NOT recorded conservation status in each park\n",
    "na_consv_park = na_consv.groupby(['park_name']).observations.sum().reset_index()\n",
    "na_consv_park\n",
    "\n",
    "# Calculate the sum of the sighted times for species under conservation status in each park\n",
    "consv_park = consv.groupby(['park_name']).observations.sum().reset_index()\n",
    "consv_park"
   ]
  },
  {
   "cell_type": "code",
   "execution_count": 20,
   "metadata": {},
   "outputs": [
    {
     "data": {
      "image/png": "[encoded data removed]",
      "text/plain": [
       "<Figure size 576x1080 with 2 Axes>"
      ]
     },
     "metadata": {
      "needs_background": "light"
     },
     "output_type": "display_data"
    }
   ],
   "source": [
    "plt.figure(figsize=(8, 15))\n",
    "\n",
    "plt.subplot(211)\n",
    "sns.barplot(data = consv_park, \n",
    "            y = 'park_name', x = 'observations',\n",
    "            palette = 'Set2')\n",
    "plt.title('Sighted Times for Species Under Conservation Status')\n",
    "plt.xlabel('Count')\n",
    "plt.ylabel('')\n",
    "\n",
    "plt.subplot(212)\n",
    "sns.barplot(data = na_consv_park, \n",
    "            y = 'park_name', x= 'observations',\n",
    "            palette = 'Set2')\n",
    "plt.title('Sighted Times for Species NOT Recorded Conservation Status')\n",
    "plt.xlabel('Count')\n",
    "plt.ylabel('')\n",
    "\n",
    "\n",
    "plt.show()"
   ]
  },
  {
   "cell_type": "code",
   "execution_count": 18,
   "metadata": {},
   "outputs": [
    {
     "data": {
      "text/html": [
       "<div>\n",
       "<style scoped>\n",
       "    .dataframe tbody tr th:only-of-type {\n",
       "        vertical-align: middle;\n",
       "    }\n",
       "\n",
       "    .dataframe tbody tr th {\n",
       "        vertical-align: top;\n",
       "    }\n",
       "\n",
       "    .dataframe thead th {\n",
       "        text-align: right;\n",
       "    }\n",
       "</style>\n",
       "<table border=\"1\" class=\"dataframe\">\n",
       "  <thead>\n",
       "    <tr style=\"text-align: right;\">\n",
       "      <th></th>\n",
       "      <th>conservation_status</th>\n",
       "      <th>park_name</th>\n",
       "      <th>observations</th>\n",
       "    </tr>\n",
       "  </thead>\n",
       "  <tbody>\n",
       "    <tr>\n",
       "      <th>0</th>\n",
       "      <td>Endangered</td>\n",
       "      <td>Bryce National Park</td>\n",
       "      <td>489</td>\n",
       "    </tr>\n",
       "    <tr>\n",
       "      <th>1</th>\n",
       "      <td>Endangered</td>\n",
       "      <td>Great Smoky Mountains National Park</td>\n",
       "      <td>334</td>\n",
       "    </tr>\n",
       "    <tr>\n",
       "      <th>2</th>\n",
       "      <td>Endangered</td>\n",
       "      <td>Yellowstone National Park</td>\n",
       "      <td>1228</td>\n",
       "    </tr>\n",
       "    <tr>\n",
       "      <th>3</th>\n",
       "      <td>Endangered</td>\n",
       "      <td>Yosemite National Park</td>\n",
       "      <td>747</td>\n",
       "    </tr>\n",
       "    <tr>\n",
       "      <th>4</th>\n",
       "      <td>In Recovery</td>\n",
       "      <td>Bryce National Park</td>\n",
       "      <td>388</td>\n",
       "    </tr>\n",
       "    <tr>\n",
       "      <th>5</th>\n",
       "      <td>In Recovery</td>\n",
       "      <td>Great Smoky Mountains National Park</td>\n",
       "      <td>248</td>\n",
       "    </tr>\n",
       "    <tr>\n",
       "      <th>6</th>\n",
       "      <td>In Recovery</td>\n",
       "      <td>Yellowstone National Park</td>\n",
       "      <td>889</td>\n",
       "    </tr>\n",
       "    <tr>\n",
       "      <th>7</th>\n",
       "      <td>In Recovery</td>\n",
       "      <td>Yosemite National Park</td>\n",
       "      <td>582</td>\n",
       "    </tr>\n",
       "  </tbody>\n",
       "</table>\n",
       "</div>"
      ],
      "text/plain": [
       "  conservation_status                            park_name  observations\n",
       "0          Endangered                  Bryce National Park           489\n",
       "1          Endangered  Great Smoky Mountains National Park           334\n",
       "2          Endangered            Yellowstone National Park          1228\n",
       "3          Endangered               Yosemite National Park           747\n",
       "4         In Recovery                  Bryce National Park           388\n",
       "5         In Recovery  Great Smoky Mountains National Park           248\n",
       "6         In Recovery            Yellowstone National Park           889\n",
       "7         In Recovery               Yosemite National Park           582"
      ]
     },
     "execution_count": 18,
     "metadata": {},
     "output_type": "execute_result"
    }
   ],
   "source": [
    "consv_park2 = consv.groupby(['conservation_status', 'park_name']).observations.sum().reset_index()\n",
    "consv_park2.head(8)"
   ]
  },
  {
   "cell_type": "code",
   "execution_count": 19,
   "metadata": {},
   "outputs": [
    {
     "data": {
      "text/plain": [
       "Text(0.5, 0.98, 'Sighted Times of Species under Different Conservation Status and Parks')"
      ]
     },
     "execution_count": 19,
     "metadata": {},
     "output_type": "execute_result"
    },
    {
     "data": {
      "image/png": "[encoded data removed]",
      "text/plain": [
       "<Figure size 864x720 with 4 Axes>"
      ]
     },
     "metadata": {
      "needs_background": "light"
     },
     "output_type": "display_data"
    }
   ],
   "source": [
    "g_sight_status = sns.catplot(data = consv_park2, kind = 'bar',\n",
    "                             x = 'observations', y = 'conservation_status',\n",
    "                             col = 'park_name', col_wrap = 2, sharex = False,\n",
    "                             palette = 'Set2', height = 5, aspect = 1.2)\n",
    "\n",
    "g_sight_status.set_axis_labels('Sighted Times', 'Conservation Status')\n",
    "g_sight_status.fig.subplots_adjust(top = 0.9, hspace = 0.3, wspace = 0.1)\n",
    "g_sight_status.fig.suptitle('Sighted Times of Species under Different Conservation Status and Parks')"
   ]
  },
  {
   "cell_type": "markdown",
   "metadata": {},
   "source": [
    "### 4. For the species under conservation status, which class was spotted the most at which park? "
   ]
  },
  {
   "cell_type": "markdown",
   "metadata": {},
   "source": [
    "From the last quesiton, we've known that `Yellow Stone National park` accounts for the majority of the observations.At this section, I try to focus on how the `classes` ditributed among the observations of the species under conservation status.\n",
    "\n",
    "From the barplot below, you can see that the class **Bird**, as the first rank among 4 national parks, was recorded around `1.5` times higher than the second most class, **Vascular Plant**."
   ]
  },
  {
   "cell_type": "code",
   "execution_count": 20,
   "metadata": {},
   "outputs": [
    {
     "data": {
      "text/html": [
       "<div>\n",
       "<style scoped>\n",
       "    .dataframe tbody tr th:only-of-type {\n",
       "        vertical-align: middle;\n",
       "    }\n",
       "\n",
       "    .dataframe tbody tr th {\n",
       "        vertical-align: top;\n",
       "    }\n",
       "\n",
       "    .dataframe thead th {\n",
       "        text-align: right;\n",
       "    }\n",
       "</style>\n",
       "<table border=\"1\" class=\"dataframe\">\n",
       "  <thead>\n",
       "    <tr style=\"text-align: right;\">\n",
       "      <th></th>\n",
       "      <th>category</th>\n",
       "      <th>park_name</th>\n",
       "      <th>observations</th>\n",
       "    </tr>\n",
       "  </thead>\n",
       "  <tbody>\n",
       "    <tr>\n",
       "      <th>6</th>\n",
       "      <td>Bird</td>\n",
       "      <td>Yellowstone National Park</td>\n",
       "      <td>16788</td>\n",
       "    </tr>\n",
       "    <tr>\n",
       "      <th>7</th>\n",
       "      <td>Bird</td>\n",
       "      <td>Yosemite National Park</td>\n",
       "      <td>10153</td>\n",
       "    </tr>\n",
       "    <tr>\n",
       "      <th>26</th>\n",
       "      <td>Vascular Plant</td>\n",
       "      <td>Yellowstone National Park</td>\n",
       "      <td>9716</td>\n",
       "    </tr>\n",
       "    <tr>\n",
       "      <th>14</th>\n",
       "      <td>Mammal</td>\n",
       "      <td>Yellowstone National Park</td>\n",
       "      <td>7550</td>\n",
       "    </tr>\n",
       "    <tr>\n",
       "      <th>4</th>\n",
       "      <td>Bird</td>\n",
       "      <td>Bryce National Park</td>\n",
       "      <td>6926</td>\n",
       "    </tr>\n",
       "  </tbody>\n",
       "</table>\n",
       "</div>"
      ],
      "text/plain": [
       "          category                  park_name  observations\n",
       "6             Bird  Yellowstone National Park         16788\n",
       "7             Bird     Yosemite National Park         10153\n",
       "26  Vascular Plant  Yellowstone National Park          9716\n",
       "14          Mammal  Yellowstone National Park          7550\n",
       "4             Bird        Bryce National Park          6926"
      ]
     },
     "execution_count": 20,
     "metadata": {},
     "output_type": "execute_result"
    }
   ],
   "source": [
    "consv_park3 = (consv.groupby(['category', 'park_name'])\n",
    "                    .observations.sum()\n",
    "                    .reset_index()\n",
    "                    .sort_values('observations', ascending = False))\n",
    "consv_park3.head()"
   ]
  },
  {
   "cell_type": "code",
   "execution_count": 21,
   "metadata": {
    "scrolled": false
   },
   "outputs": [
    {
     "data": {
      "text/plain": [
       "Text(0.5, 0.98, 'Sighted Times of Species in Different Classes and Parks')"
      ]
     },
     "execution_count": 21,
     "metadata": {},
     "output_type": "execute_result"
    },
    {
     "data": {
      "image/png": "[encoded data removed]",
      "text/plain": [
       "<Figure size 864x720 with 4 Axes>"
      ]
     },
     "metadata": {
      "needs_background": "light"
     },
     "output_type": "display_data"
    }
   ],
   "source": [
    "g_sight_class = sns.catplot(data = consv_park3, kind = 'bar',\n",
    "                            x = 'observations', y = 'category',\n",
    "                            col = 'park_name', col_wrap = 2, sharex = False,\n",
    "                            palette = 'Set2', height = 5, aspect = 1.2)\n",
    "\n",
    "g_sight_class.set_axis_labels('Sighted Times', 'Class')\n",
    "g_sight_class.fig.subplots_adjust(top = 0.9, hspace = 0.3, wspace = 0.1)\n",
    "g_sight_class.fig.suptitle('Sighted Times of Species in Different Classes and Parks')"
   ]
  },
  {
   "cell_type": "markdown",
   "metadata": {},
   "source": [
    "### 5. Which species was spotted the most at which park? "
   ]
  },
  {
   "cell_type": "markdown",
   "metadata": {},
   "source": [
    "To answer this question, I decided to seperate the species into two groups first, which are *species NOT recorded conservation status* and *species under conservation status*.\n",
    "\n",
    "Below in the upper table shows that the most sighted species NOT recorded conservation status is **Holcus lanatus**, which belongs to class `Vascular Plant` and is with `805` sighted times. While, the lower table shows that the most sighted species under conservation status is **Myotis lucifugus**, which belongs to class `Mammal` and is with `679` sighted times. What out of my expectation is the number of the sighted times between these 2 species has not much difference. "
   ]
  },
  {
   "cell_type": "code",
   "execution_count": 22,
   "metadata": {},
   "outputs": [
    {
     "data": {
      "text/html": [
       "<div>\n",
       "<style scoped>\n",
       "    .dataframe tbody tr th:only-of-type {\n",
       "        vertical-align: middle;\n",
       "    }\n",
       "\n",
       "    .dataframe tbody tr th {\n",
       "        vertical-align: top;\n",
       "    }\n",
       "\n",
       "    .dataframe thead th {\n",
       "        text-align: right;\n",
       "    }\n",
       "</style>\n",
       "<table border=\"1\" class=\"dataframe\">\n",
       "  <thead>\n",
       "    <tr style=\"text-align: right;\">\n",
       "      <th></th>\n",
       "      <th>category</th>\n",
       "      <th>scientific_name</th>\n",
       "      <th>park_name</th>\n",
       "      <th>observations</th>\n",
       "    </tr>\n",
       "  </thead>\n",
       "  <tbody>\n",
       "    <tr>\n",
       "      <th>12150</th>\n",
       "      <td>Vascular Plant</td>\n",
       "      <td>Holcus lanatus</td>\n",
       "      <td>Yellowstone National Park</td>\n",
       "      <td>805</td>\n",
       "    </tr>\n",
       "    <tr>\n",
       "      <th>1722</th>\n",
       "      <td>Bird</td>\n",
       "      <td>Streptopelia decaocto</td>\n",
       "      <td>Yellowstone National Park</td>\n",
       "      <td>771</td>\n",
       "    </tr>\n",
       "    <tr>\n",
       "      <th>2758</th>\n",
       "      <td>Mammal</td>\n",
       "      <td>Puma concolor</td>\n",
       "      <td>Yellowstone National Park</td>\n",
       "      <td>753</td>\n",
       "    </tr>\n",
       "    <tr>\n",
       "      <th>2754</th>\n",
       "      <td>Mammal</td>\n",
       "      <td>Procyon lotor</td>\n",
       "      <td>Yellowstone National Park</td>\n",
       "      <td>745</td>\n",
       "    </tr>\n",
       "    <tr>\n",
       "      <th>12438</th>\n",
       "      <td>Vascular Plant</td>\n",
       "      <td>Hypochaeris radicata</td>\n",
       "      <td>Yellowstone National Park</td>\n",
       "      <td>726</td>\n",
       "    </tr>\n",
       "  </tbody>\n",
       "</table>\n",
       "</div>"
      ],
      "text/plain": [
       "             category        scientific_name                  park_name  \\\n",
       "12150  Vascular Plant         Holcus lanatus  Yellowstone National Park   \n",
       "1722             Bird  Streptopelia decaocto  Yellowstone National Park   \n",
       "2758           Mammal          Puma concolor  Yellowstone National Park   \n",
       "2754           Mammal          Procyon lotor  Yellowstone National Park   \n",
       "12438  Vascular Plant   Hypochaeris radicata  Yellowstone National Park   \n",
       "\n",
       "       observations  \n",
       "12150           805  \n",
       "1722            771  \n",
       "2758            753  \n",
       "2754            745  \n",
       "12438           726  "
      ]
     },
     "execution_count": 22,
     "metadata": {},
     "output_type": "execute_result"
    }
   ],
   "source": [
    "# Count the observations among the species NOT recorded conservation status\n",
    "most_sighted_na_consv = (na_consv.groupby(['category', 'scientific_name', 'park_name'])\n",
    "                                 .observations.sum()\n",
    "                                 .reset_index()\n",
    "                                 .sort_values('observations', ascending = False))\n",
    "most_sighted_na_consv.head()"
   ]
  },
  {
   "cell_type": "code",
   "execution_count": 23,
   "metadata": {},
   "outputs": [
    {
     "data": {
      "text/html": [
       "<div>\n",
       "<style scoped>\n",
       "    .dataframe tbody tr th:only-of-type {\n",
       "        vertical-align: middle;\n",
       "    }\n",
       "\n",
       "    .dataframe tbody tr th {\n",
       "        vertical-align: top;\n",
       "    }\n",
       "\n",
       "    .dataframe thead th {\n",
       "        text-align: right;\n",
       "    }\n",
       "</style>\n",
       "<table border=\"1\" class=\"dataframe\">\n",
       "  <thead>\n",
       "    <tr style=\"text-align: right;\">\n",
       "      <th></th>\n",
       "      <th>category</th>\n",
       "      <th>scientific_name</th>\n",
       "      <th>conservation_status</th>\n",
       "      <th>park_name</th>\n",
       "      <th>observations</th>\n",
       "    </tr>\n",
       "  </thead>\n",
       "  <tbody>\n",
       "    <tr>\n",
       "      <th>450</th>\n",
       "      <td>Mammal</td>\n",
       "      <td>Myotis lucifugus</td>\n",
       "      <td>Species of Concern</td>\n",
       "      <td>Yellowstone National Park</td>\n",
       "      <td>679</td>\n",
       "    </tr>\n",
       "    <tr>\n",
       "      <th>218</th>\n",
       "      <td>Bird</td>\n",
       "      <td>Pandion haliaetus</td>\n",
       "      <td>Species of Concern</td>\n",
       "      <td>Yellowstone National Park</td>\n",
       "      <td>466</td>\n",
       "    </tr>\n",
       "    <tr>\n",
       "      <th>402</th>\n",
       "      <td>Mammal</td>\n",
       "      <td>Eptesicus fuscus</td>\n",
       "      <td>Species of Concern</td>\n",
       "      <td>Yellowstone National Park</td>\n",
       "      <td>463</td>\n",
       "    </tr>\n",
       "    <tr>\n",
       "      <th>414</th>\n",
       "      <td>Mammal</td>\n",
       "      <td>Lasionycteris noctivagans</td>\n",
       "      <td>Species of Concern</td>\n",
       "      <td>Yellowstone National Park</td>\n",
       "      <td>450</td>\n",
       "    </tr>\n",
       "    <tr>\n",
       "      <th>490</th>\n",
       "      <td>Mammal</td>\n",
       "      <td>Taxidea taxus</td>\n",
       "      <td>Species of Concern</td>\n",
       "      <td>Yellowstone National Park</td>\n",
       "      <td>449</td>\n",
       "    </tr>\n",
       "  </tbody>\n",
       "</table>\n",
       "</div>"
      ],
      "text/plain": [
       "    category            scientific_name conservation_status  \\\n",
       "450   Mammal           Myotis lucifugus  Species of Concern   \n",
       "218     Bird          Pandion haliaetus  Species of Concern   \n",
       "402   Mammal           Eptesicus fuscus  Species of Concern   \n",
       "414   Mammal  Lasionycteris noctivagans  Species of Concern   \n",
       "490   Mammal              Taxidea taxus  Species of Concern   \n",
       "\n",
       "                     park_name  observations  \n",
       "450  Yellowstone National Park           679  \n",
       "218  Yellowstone National Park           466  \n",
       "402  Yellowstone National Park           463  \n",
       "414  Yellowstone National Park           450  \n",
       "490  Yellowstone National Park           449  "
      ]
     },
     "execution_count": 23,
     "metadata": {},
     "output_type": "execute_result"
    }
   ],
   "source": [
    "# Count the observations among the species under conservation status\n",
    "most_sighted_consv = (consv.groupby(['category', 'scientific_name', 'conservation_status', 'park_name'])\n",
    "                           .observations.sum()\n",
    "                           .reset_index()\n",
    "                           .sort_values('observations', ascending = False))\n",
    "most_sighted_consv.head()"
   ]
  },
  {
   "cell_type": "code",
   "execution_count": 24,
   "metadata": {},
   "outputs": [
    {
     "data": {
      "image/png": "[encoded data removed]",
      "text/plain": [
       "<Figure size 576x720 with 2 Axes>"
      ]
     },
     "metadata": {
      "needs_background": "light"
     },
     "output_type": "display_data"
    },
    {
     "data": {
      "text/plain": [
       "<Figure size 432x288 with 0 Axes>"
      ]
     },
     "metadata": {},
     "output_type": "display_data"
    }
   ],
   "source": [
    "# PLot the barplot of most sighted species for above two groups\n",
    "plt.figure(figsize=(8,10))\n",
    "plt.subplots_adjust(hspace = 0.3)\n",
    "\n",
    "plt.subplot(211)\n",
    "ax1 = sns.barplot(data = most_sighted_na_consv.head(),\n",
    "            y = 'scientific_name', x = 'observations',\n",
    "            hue = 'category',\n",
    "            palette = 'Set2',\n",
    "            dodge = False)  # 'dodge = False' is used here for aligning the bars and ticks\n",
    "plt.title('Top 5 Most Sighted Species (NOT Recorded Conservation Status)')\n",
    "plt.xlabel('Sighted Times')\n",
    "plt.ylabel('Scientific Name')\n",
    "ax1.legend(loc='center left', bbox_to_anchor=(1, 0.5))\n",
    "                                              \n",
    "\n",
    "plt.subplot(212)\n",
    "ax2 = sns.barplot(data = most_sighted_consv.head(),\n",
    "            y = 'scientific_name', x = 'observations',\n",
    "            hue = 'category',\n",
    "            palette = 'Set2',\n",
    "            dodge = False)\n",
    "plt.title('Top 5 Most Sighted Species (Under Conservation Status)')\n",
    "plt.xlabel('Sighted Times')\n",
    "plt.ylabel('Scientific Name')\n",
    "ax2.legend(loc='center left', bbox_to_anchor=(1, 0.5))\n",
    "\n",
    "plt.show()\n",
    "plt.clf()"
   ]
  },
  {
   "cell_type": "markdown",
   "metadata": {},
   "source": [
    "# Conclusions"
   ]
  },
  {
   "cell_type": "markdown",
   "metadata": {},
   "source": [
    "**1. What is the distribution of classes among `all species` in the dataset and `for the species listed under conservation status`? How are the distribution different between two groups?**\n",
    "\n",
    "In the class distribution for *all species*, `Vascular plant` accounts for the majority class with `76.9%`. And, they are almost `9` times to the second most class, `Bird`. In the other hand, in the class distribution for *species under conservation status*, `Bird` is the majority class with `41.7%`,which is around `1.6` times higher than the second most class, `Vascular plant`. And, the ranking follows by `Mammal` and `Fish`. \n",
    "\n",
    "From above analysis, we know that the species from the class `Vascular plant` and `bird` account for the majority in both groups. However, the biggest difference between these two groups would be the total amount of species listed under conservation status, no matter which class they belong to, were all significantly less comparing to the other group.\n",
    "\n",
    "\n",
    "**2. What is the distribution of conservation status among different classes of species?**\n",
    "\n",
    "There is a pattern sharing among most of the classes, in which `Species of Concern` usually accounts for the main conservation status, and then it follows by the status of 'Endangerd', 'Threatened', and lastly 'In Reconvery'.\n",
    "\n",
    "However, if we look closer to the distribution of classes for each conservation status, `Mammal`, `Bird` and `Vascular Plant` would be the most concerning classes under the status of `Species of Concern` or `Endangerd`.\n",
    "\n",
    "\n",
    "**3. For the species `under conservation status` and for `all`, what are the distribution of the sighted times among different parks? Does the result reflects the conservation status?** \n",
    "\n",
    "For the species under conservation status and for all, there is the same pattern that `Yellow Stone National park` accounts for the majority of the observations, which then follows by the other three parks with `Great Smoky Mountains National Park` being the least.\n",
    "\n",
    "To answer the quesiton of whether the sighted times distribution reflecs the conservation status, we have to look closer to the sighted times of species under different conservation status. In the graph, it shows that no matter in which national park, the species with the status of `Species of Concern` have higher sighted times. While the others were less likely to be observed.\n",
    "\n",
    "However, it's still not sure that the higher sighted times for the species under `Species of Concern` status was truly due to the higher probability to be seen or simply because they account for the majority in this dataset.   \n",
    "\n",
    "\n",
    "**4. For the species under conservation status, which class was spotted the most at which park?**\n",
    "\n",
    "The class `Bird` was spotted the most in `Yellow Stone National park`, which was around `1.5` times higher than the second most class, `Vascular Plant`.\n",
    "\n",
    "\n",
    "**5. Which species was spotted the most at which park?** \n",
    "\n",
    "In the group of `species NOT recorded conservation status`, the most spotted species is **Holcus lanatus**, which belongs to class `Vascular Plant` and is with `805` sighted times. While, in the group of `species under conservation status`, **Myotis lucifugus** belonging to class `Mammal` won the first rank with `679` sighted times. What out of my expectation is the number of the sighted times between these 2 species has not much difference. \n"
   ]
  },
  {
   "cell_type": "markdown",
   "metadata": {},
   "source": [
    "# Other Thoughts and Possible Further Research"
   ]
  },
  {
   "cell_type": "markdown",
   "metadata": {},
   "source": [
    "When I was answering the Question 5, there was a fact I thought interesting, which was that the top 5 most sighted species under conservation status are from the class `Mammal` and `Bird`. However, both Mammal and Bird classes also account for the majority of the species that are `endangered` and `of concern`. \n",
    "\n",
    "Still, I think the result is somehow reasonable if viewing the table called *most_sighted_consv*, you can find the top 5 most-sighted species were all listed under `Species of Concern` which means they indeed have higher chances being sighted if comparing to the species under the status of 'Endangered', 'Threatened' and 'In Recovery'.\n",
    "\n",
    "With the above finding, it reminds me that even though the analysis shows certain classes of species are under greater threat, it's still very important to have a closer look on EACH species in order to understand each situation the specific species is facing.\n",
    "\n",
    "One thing I think could help improve similar analysis is to add a column of `observation date` on the *observations.csv*. As once the record time expands through the seasons, the weather could have siginificant influence on the possibility of observations for different species. With observation date as another pattern indicator, one can see a bigger picture when investigating such analysis."
   ]
  }
 ],
 "metadata": {
  "kernelspec": {
   "display_name": "Python 3 (ipykernel)",
   "language": "python",
   "name": "python3"
  },
  "language_info": {
   "codemirror_mode": {
    "name": "ipython",
    "version": 3
   },
   "file_extension": ".py",
   "mimetype": "text/x-python",
   "name": "python",
   "nbconvert_exporter": "python",
   "pygments_lexer": "ipython3",
   "version": "3.9.5"
  }
 },
 "nbformat": 4,
 "nbformat_minor": 4
}
